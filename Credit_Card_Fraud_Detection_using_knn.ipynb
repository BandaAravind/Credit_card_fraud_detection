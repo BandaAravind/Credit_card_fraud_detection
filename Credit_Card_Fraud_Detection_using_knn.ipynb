{
 "cells": [
  {
   "cell_type": "code",
   "execution_count": 1,
   "id": "1e803306",
   "metadata": {},
   "outputs": [],
   "source": [
    "#Importing libraries\n",
    "import numpy as np\n",
    "import pandas as pd\n",
    "import matplotlib.pyplot as plt\n",
    "%matplotlib inline"
   ]
  },
  {
   "cell_type": "code",
   "execution_count": 2,
   "id": "26e5f82a",
   "metadata": {},
   "outputs": [],
   "source": [
    "df=pd.read_csv('creditcard.csv')"
   ]
  },
  {
   "cell_type": "code",
   "execution_count": 3,
   "id": "621a9f46",
   "metadata": {},
   "outputs": [
    {
     "data": {
      "text/html": [
       "<div>\n",
       "<style scoped>\n",
       "    .dataframe tbody tr th:only-of-type {\n",
       "        vertical-align: middle;\n",
       "    }\n",
       "\n",
       "    .dataframe tbody tr th {\n",
       "        vertical-align: top;\n",
       "    }\n",
       "\n",
       "    .dataframe thead th {\n",
       "        text-align: right;\n",
       "    }\n",
       "</style>\n",
       "<table border=\"1\" class=\"dataframe\">\n",
       "  <thead>\n",
       "    <tr style=\"text-align: right;\">\n",
       "      <th></th>\n",
       "      <th>V1</th>\n",
       "      <th>V2</th>\n",
       "      <th>V3</th>\n",
       "      <th>V4</th>\n",
       "      <th>V5</th>\n",
       "      <th>V6</th>\n",
       "      <th>V7</th>\n",
       "      <th>V8</th>\n",
       "      <th>V9</th>\n",
       "      <th>V10</th>\n",
       "      <th>...</th>\n",
       "      <th>V21</th>\n",
       "      <th>V22</th>\n",
       "      <th>V23</th>\n",
       "      <th>V24</th>\n",
       "      <th>V25</th>\n",
       "      <th>V26</th>\n",
       "      <th>V27</th>\n",
       "      <th>V28</th>\n",
       "      <th>Amount</th>\n",
       "      <th>Class</th>\n",
       "    </tr>\n",
       "  </thead>\n",
       "  <tbody>\n",
       "    <tr>\n",
       "      <th>0</th>\n",
       "      <td>-1.359807</td>\n",
       "      <td>-0.072781</td>\n",
       "      <td>2.536347</td>\n",
       "      <td>1.378155</td>\n",
       "      <td>-0.338321</td>\n",
       "      <td>0.462388</td>\n",
       "      <td>0.239599</td>\n",
       "      <td>0.098698</td>\n",
       "      <td>0.363787</td>\n",
       "      <td>0.090794</td>\n",
       "      <td>...</td>\n",
       "      <td>-0.018307</td>\n",
       "      <td>0.277838</td>\n",
       "      <td>-0.110474</td>\n",
       "      <td>0.066928</td>\n",
       "      <td>0.128539</td>\n",
       "      <td>-0.189115</td>\n",
       "      <td>0.133558</td>\n",
       "      <td>-0.021053</td>\n",
       "      <td>149.62</td>\n",
       "      <td>0</td>\n",
       "    </tr>\n",
       "    <tr>\n",
       "      <th>1</th>\n",
       "      <td>1.191857</td>\n",
       "      <td>0.266151</td>\n",
       "      <td>0.166480</td>\n",
       "      <td>0.448154</td>\n",
       "      <td>0.060018</td>\n",
       "      <td>-0.082361</td>\n",
       "      <td>-0.078803</td>\n",
       "      <td>0.085102</td>\n",
       "      <td>-0.255425</td>\n",
       "      <td>-0.166974</td>\n",
       "      <td>...</td>\n",
       "      <td>-0.225775</td>\n",
       "      <td>-0.638672</td>\n",
       "      <td>0.101288</td>\n",
       "      <td>-0.339846</td>\n",
       "      <td>0.167170</td>\n",
       "      <td>0.125895</td>\n",
       "      <td>-0.008983</td>\n",
       "      <td>0.014724</td>\n",
       "      <td>2.69</td>\n",
       "      <td>0</td>\n",
       "    </tr>\n",
       "    <tr>\n",
       "      <th>2</th>\n",
       "      <td>-1.358354</td>\n",
       "      <td>-1.340163</td>\n",
       "      <td>1.773209</td>\n",
       "      <td>0.379780</td>\n",
       "      <td>-0.503198</td>\n",
       "      <td>1.800499</td>\n",
       "      <td>0.791461</td>\n",
       "      <td>0.247676</td>\n",
       "      <td>-1.514654</td>\n",
       "      <td>0.207643</td>\n",
       "      <td>...</td>\n",
       "      <td>0.247998</td>\n",
       "      <td>0.771679</td>\n",
       "      <td>0.909412</td>\n",
       "      <td>-0.689281</td>\n",
       "      <td>-0.327642</td>\n",
       "      <td>-0.139097</td>\n",
       "      <td>-0.055353</td>\n",
       "      <td>-0.059752</td>\n",
       "      <td>378.66</td>\n",
       "      <td>0</td>\n",
       "    </tr>\n",
       "    <tr>\n",
       "      <th>3</th>\n",
       "      <td>-0.966272</td>\n",
       "      <td>-0.185226</td>\n",
       "      <td>1.792993</td>\n",
       "      <td>-0.863291</td>\n",
       "      <td>-0.010309</td>\n",
       "      <td>1.247203</td>\n",
       "      <td>0.237609</td>\n",
       "      <td>0.377436</td>\n",
       "      <td>-1.387024</td>\n",
       "      <td>-0.054952</td>\n",
       "      <td>...</td>\n",
       "      <td>-0.108300</td>\n",
       "      <td>0.005274</td>\n",
       "      <td>-0.190321</td>\n",
       "      <td>-1.175575</td>\n",
       "      <td>0.647376</td>\n",
       "      <td>-0.221929</td>\n",
       "      <td>0.062723</td>\n",
       "      <td>0.061458</td>\n",
       "      <td>123.50</td>\n",
       "      <td>0</td>\n",
       "    </tr>\n",
       "    <tr>\n",
       "      <th>4</th>\n",
       "      <td>-1.158233</td>\n",
       "      <td>0.877737</td>\n",
       "      <td>1.548718</td>\n",
       "      <td>0.403034</td>\n",
       "      <td>-0.407193</td>\n",
       "      <td>0.095921</td>\n",
       "      <td>0.592941</td>\n",
       "      <td>-0.270533</td>\n",
       "      <td>0.817739</td>\n",
       "      <td>0.753074</td>\n",
       "      <td>...</td>\n",
       "      <td>-0.009431</td>\n",
       "      <td>0.798278</td>\n",
       "      <td>-0.137458</td>\n",
       "      <td>0.141267</td>\n",
       "      <td>-0.206010</td>\n",
       "      <td>0.502292</td>\n",
       "      <td>0.219422</td>\n",
       "      <td>0.215153</td>\n",
       "      <td>69.99</td>\n",
       "      <td>0</td>\n",
       "    </tr>\n",
       "  </tbody>\n",
       "</table>\n",
       "<p>5 rows × 30 columns</p>\n",
       "</div>"
      ],
      "text/plain": [
       "         V1        V2        V3        V4        V5        V6        V7  \\\n",
       "0 -1.359807 -0.072781  2.536347  1.378155 -0.338321  0.462388  0.239599   \n",
       "1  1.191857  0.266151  0.166480  0.448154  0.060018 -0.082361 -0.078803   \n",
       "2 -1.358354 -1.340163  1.773209  0.379780 -0.503198  1.800499  0.791461   \n",
       "3 -0.966272 -0.185226  1.792993 -0.863291 -0.010309  1.247203  0.237609   \n",
       "4 -1.158233  0.877737  1.548718  0.403034 -0.407193  0.095921  0.592941   \n",
       "\n",
       "         V8        V9       V10  ...       V21       V22       V23       V24  \\\n",
       "0  0.098698  0.363787  0.090794  ... -0.018307  0.277838 -0.110474  0.066928   \n",
       "1  0.085102 -0.255425 -0.166974  ... -0.225775 -0.638672  0.101288 -0.339846   \n",
       "2  0.247676 -1.514654  0.207643  ...  0.247998  0.771679  0.909412 -0.689281   \n",
       "3  0.377436 -1.387024 -0.054952  ... -0.108300  0.005274 -0.190321 -1.175575   \n",
       "4 -0.270533  0.817739  0.753074  ... -0.009431  0.798278 -0.137458  0.141267   \n",
       "\n",
       "        V25       V26       V27       V28  Amount  Class  \n",
       "0  0.128539 -0.189115  0.133558 -0.021053  149.62      0  \n",
       "1  0.167170  0.125895 -0.008983  0.014724    2.69      0  \n",
       "2 -0.327642 -0.139097 -0.055353 -0.059752  378.66      0  \n",
       "3  0.647376 -0.221929  0.062723  0.061458  123.50      0  \n",
       "4 -0.206010  0.502292  0.219422  0.215153   69.99      0  \n",
       "\n",
       "[5 rows x 30 columns]"
      ]
     },
     "execution_count": 3,
     "metadata": {},
     "output_type": "execute_result"
    }
   ],
   "source": [
    "df.drop('Time',axis=1,inplace=True)\n",
    "df.head()"
   ]
  },
  {
   "cell_type": "code",
   "execution_count": 4,
   "id": "6bbe8b0b",
   "metadata": {},
   "outputs": [
    {
     "name": "stdout",
     "output_type": "stream",
     "text": [
      "Total number of transcations are 284807\n",
      "Total number of fraud transcations are 492\n",
      "Total number of non-fraud transcations are 284315\n",
      "The percentage of fraud transcations is 0.1727485630620034\n"
     ]
    }
   ],
   "source": [
    "no_of_transcations=len(df)\n",
    "fraud_transcations=len(df[df['Class']==1])\n",
    "nonfraud_transcations=len(df[df['Class']==0])\n",
    "\n",
    "print(\"Total number of transcations are {}\".format(no_of_transcations))\n",
    "print(\"Total number of fraud transcations are {}\".format(fraud_transcations))\n",
    "print(\"Total number of non-fraud transcations are {}\".format(nonfraud_transcations))\n",
    "print(\"The percentage of fraud transcations is {}\".format(fraud_transcations/no_of_transcations*100))"
   ]
  },
  {
   "cell_type": "code",
   "execution_count": 5,
   "id": "bbde9295",
   "metadata": {},
   "outputs": [
    {
     "name": "stdout",
     "output_type": "stream",
     "text": [
      "Statistics of amount of fraud_transcations\n"
     ]
    },
    {
     "data": {
      "text/plain": [
       "count     492.000000\n",
       "mean      122.211321\n",
       "std       256.683288\n",
       "min         0.000000\n",
       "25%         1.000000\n",
       "50%         9.250000\n",
       "75%       105.890000\n",
       "max      2125.870000\n",
       "Name: Amount, dtype: float64"
      ]
     },
     "execution_count": 5,
     "metadata": {},
     "output_type": "execute_result"
    }
   ],
   "source": [
    "fraud_transcations=df[df['Class']==1]\n",
    "nonfraud_transcations=df[df['Class']==0]\n",
    "\n",
    "print(\"Statistics of amount of fraud_transcations\")\n",
    "fraud_transcations.Amount.describe()"
   ]
  },
  {
   "cell_type": "code",
   "execution_count": 6,
   "id": "6753204e",
   "metadata": {},
   "outputs": [
    {
     "name": "stdout",
     "output_type": "stream",
     "text": [
      "Statistics of amount of nonfraud_transcations\n"
     ]
    },
    {
     "data": {
      "text/plain": [
       "count    284315.000000\n",
       "mean         88.291022\n",
       "std         250.105092\n",
       "min           0.000000\n",
       "25%           5.650000\n",
       "50%          22.000000\n",
       "75%          77.050000\n",
       "max       25691.160000\n",
       "Name: Amount, dtype: float64"
      ]
     },
     "execution_count": 6,
     "metadata": {},
     "output_type": "execute_result"
    }
   ],
   "source": [
    "print(\"Statistics of amount of nonfraud_transcations\")\n",
    "nonfraud_transcations.Amount.describe()"
   ]
  },
  {
   "cell_type": "code",
   "execution_count": 9,
   "id": "02053ff6",
   "metadata": {},
   "outputs": [],
   "source": [
    "#Normalizing amount\n",
    "from sklearn.preprocessing import StandardScaler\n",
    "sc=StandardScaler()\n",
    "df['Amount']=sc.fit_transform(df['Amount'].values.reshape(-1,1))"
   ]
  },
  {
   "cell_type": "code",
   "execution_count": 10,
   "id": "3fbddede",
   "metadata": {},
   "outputs": [],
   "source": [
    "#Splitting data into training set and testing set\n",
    "from sklearn.model_selection import train_test_split\n",
    "X=df.drop('Class',axis=1).values\n",
    "y=df['Class'].values\n",
    "\n",
    "X_train, X_test, y_train, y_test = train_test_split(X, y, test_size = 0.2, random_state = 0)"
   ]
  },
  {
   "cell_type": "code",
   "execution_count": 11,
   "id": "a866bc17",
   "metadata": {},
   "outputs": [],
   "source": [
    "#LogisticRegression\n",
    "from sklearn.linear_model import LogisticRegression\n",
    "log_reg= LogisticRegression()\n",
    "log_reg.fit(X_train, y_train)\n",
    "log_reg_pred=log_reg.predict(X_test)"
   ]
  },
  {
   "cell_type": "code",
   "execution_count": 12,
   "id": "993b6d65",
   "metadata": {},
   "outputs": [],
   "source": [
    "#SVM\n",
    "from sklearn.svm import SVC\n",
    "svm=SVC()\n",
    "svm.fit(X_train,y_train)\n",
    "svm_pred=svm.predict(X_test)"
   ]
  },
  {
   "cell_type": "code",
   "execution_count": 11,
   "id": "dada8dbc",
   "metadata": {},
   "outputs": [],
   "source": [
    "#DecisionTree Classifier\n",
    "from sklearn.tree import DecisionTreeClassifier\n",
    "decision_tree = DecisionTreeClassifier(max_depth = 4, criterion = 'entropy')\n",
    "decision_tree.fit(X_train, y_train)\n",
    "decision_tree_pred= decision_tree.predict(X_test)"
   ]
  },
  {
   "cell_type": "code",
   "execution_count": 13,
   "id": "58fffcf6",
   "metadata": {},
   "outputs": [],
   "source": [
    "#RandomForest Classifier\n",
    "from sklearn.ensemble import RandomForestClassifier\n",
    "random_forest = RandomForestClassifier(max_depth = 4)\n",
    "random_forest.fit(X_train, y_train)\n",
    "random_forest_pred= random_forest.predict(X_test)"
   ]
  },
  {
   "cell_type": "code",
   "execution_count": 9,
   "id": "1dc728ec",
   "metadata": {},
   "outputs": [],
   "source": [
    "#K-Nearest Neighbor\n",
    "from sklearn.neighbors import KNeighborsClassifier\n",
    "knn=KNeighborsClassifier(n_neighbors=5)\n",
    "knn.fit(X_train, y_train)\n",
    "knn_pred= knn.predict(X_test)"
   ]
  },
  {
   "cell_type": "raw",
   "id": "5f339962",
   "metadata": {},
   "source": [
    "Accuracy is a metric for evaluating model.It is calculated by the total number of correct\n",
    "predictions divided by total number of predictions made by model multiplied by 100.\n",
    " \n",
    "         Accuracy=(No.of correct predictions/Total no.of predictions)*100"
   ]
  },
  {
   "cell_type": "code",
   "execution_count": 26,
   "id": "63a91d2d",
   "metadata": {},
   "outputs": [
    {
     "name": "stdout",
     "output_type": "stream",
     "text": [
      "Accuracy score of LogisticRegression model is 0.9991924440855307\n",
      "---------------\n",
      "Accuracy score of SVM model is 0.9993153330290369\n",
      "---------------\n",
      "Accuracy score of DecisionTreeClassifier model is 0.9993679997191109\n",
      "---------------\n",
      "Accuracy score of RandomForestClassifier model is 0.9993328885923949\n",
      "---------------\n",
      "Accuracy score of K-Nearest Neighbor model is 0.9995259997893332\n"
     ]
    }
   ],
   "source": [
    "#Calculating accuracy for each model\n",
    "from sklearn.metrics import accuracy_score\n",
    "\n",
    "print(\"Accuracy score of LogisticRegression model is {}\".format(accuracy_score(y_test,log_reg_pred)))\n",
    "print(\"---------------\")\n",
    "print(\"Accuracy score of SVM model is {}\".format(accuracy_score(y_test,svm_pred)))\n",
    "print(\"---------------\")\n",
    "print(\"Accuracy score of DecisionTreeClassifier model is {}\".format(accuracy_score(y_test,decision_tree_pred)))\n",
    "print(\"---------------\")\n",
    "print(\"Accuracy score of RandomForestClassifier model is {}\".format(accuracy_score(y_test,random_forest_pred)))\n",
    "print(\"---------------\")\n",
    "print(\"Accuracy score of K-Nearest Neighbor model is {}\".format(accuracy_score(y_test,knn_pred)))"
   ]
  },
  {
   "cell_type": "raw",
   "id": "61da4de5",
   "metadata": {},
   "source": [
    "By observing accuracy score of all the models we can conclude that K-NearesrNeighbor to be the most accurate model and LogisticRegression to be the least accurate model."
   ]
  },
  {
   "cell_type": "code",
   "execution_count": 30,
   "id": "f6c12bc5",
   "metadata": {},
   "outputs": [
    {
     "name": "stdout",
     "output_type": "stream",
     "text": [
      "Confusion matrix of logistic regression model\n",
      "[[56852     9]\n",
      " [   37    64]]\n",
      "----------\n",
      "Confusion matrix of SVM model\n",
      "[[56855     6]\n",
      " [   33    68]]\n",
      "----------\n",
      "Confusion matrix of DecisionTreeClassifier model\n",
      "[[56849    12]\n",
      " [   24    77]]\n",
      "----------\n",
      "Confusion matrix of RandomForestClassifier model\n",
      "[[56854     7]\n",
      " [   31    70]]\n",
      "----------\n",
      "Confusion matrix of K-Nearest Neighbor model\n",
      "[[56854     7]\n",
      " [   20    81]]\n"
     ]
    }
   ],
   "source": [
    "#Confusion matrix\n",
    "from sklearn.metrics import confusion_matrix\n",
    "\n",
    "print(\"Confusion matrix of logistic regression model\")\n",
    "print(confusion_matrix(y_test, log_reg_pred, labels = [0, 1]))# Logistic Regression\n",
    "print(\"----------\")\n",
    "print(\"Confusion matrix of SVM model\")\n",
    "print(confusion_matrix(y_test, svm_pred, labels = [0, 1])) # Support Vector Machine\n",
    "print(\"----------\")\n",
    "print(\"Confusion matrix of DecisionTreeClassifier model\")\n",
    "print(confusion_matrix(y_test,decision_tree_pred, labels = [0, 1])) # Decision Tree\n",
    "print(\"----------\")\n",
    "print(\"Confusion matrix of RandomForestClassifier model\")\n",
    "print(confusion_matrix(y_test, random_forest_pred, labels = [0, 1]))# Random Forest Tree\n",
    "print(\"----------\")\n",
    "print(\"Confusion matrix of K-Nearest Neighbor model\")\n",
    "print(confusion_matrix(y_test, knn_pred, labels = [0, 1])) # K-Nearest Neighbors"
   ]
  },
  {
   "cell_type": "code",
   "execution_count": 12,
   "id": "b75d9662",
   "metadata": {},
   "outputs": [
    {
     "data": {
      "text/plain": [
       "array([[227440,     14],\n",
       "       [    79,    312]])"
      ]
     },
     "execution_count": 12,
     "metadata": {},
     "output_type": "execute_result"
    }
   ],
   "source": [
    "confusion_matrix(y_train,knn.predict(X_train))"
   ]
  },
  {
   "cell_type": "code",
   "execution_count": 11,
   "id": "b779d731",
   "metadata": {},
   "outputs": [],
   "source": []
  },
  {
   "cell_type": "code",
   "execution_count": null,
   "id": "acba8dcc",
   "metadata": {},
   "outputs": [],
   "source": []
  },
  {
   "cell_type": "code",
   "execution_count": null,
   "id": "b9ff348e",
   "metadata": {},
   "outputs": [],
   "source": []
  },
  {
   "cell_type": "code",
   "execution_count": null,
   "id": "d2aa2189",
   "metadata": {},
   "outputs": [],
   "source": []
  },
  {
   "cell_type": "code",
   "execution_count": null,
   "id": "dafb4a89",
   "metadata": {},
   "outputs": [],
   "source": []
  }
 ],
 "metadata": {
  "kernelspec": {
   "display_name": "Python 3",
   "language": "python",
   "name": "python3"
  },
  "language_info": {
   "codemirror_mode": {
    "name": "ipython",
    "version": 3
   },
   "file_extension": ".py",
   "mimetype": "text/x-python",
   "name": "python",
   "nbconvert_exporter": "python",
   "pygments_lexer": "ipython3",
   "version": "3.7.10"
  }
 },
 "nbformat": 4,
 "nbformat_minor": 5
}
